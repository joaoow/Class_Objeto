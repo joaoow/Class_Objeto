{
  "nbformat": 4,
  "nbformat_minor": 0,
  "metadata": {
    "colab": {
      "provenance": []
    },
    "kernelspec": {
      "name": "python3",
      "display_name": "Python 3"
    },
    "language_info": {
      "name": "python"
    }
  },
  "cells": [
    {
      "cell_type": "code",
      "execution_count": 3,
      "metadata": {
        "id": "O5izJD9QYYIJ"
      },
      "outputs": [],
      "source": [
        "class Pessoa:\n",
        "  def __init__(self, nome, ender):\n",
        "    self.set_nome(nome)\n",
        "    self.set_ender(ender)\n",
        "\n",
        "    def set_nome(self, nome):\n",
        "      self,nome=nome\n",
        "\n",
        "\n",
        "    def set_ender(self, ender):\n",
        "      self,ender=ender\n",
        "\n",
        "    def get_nome(self):\n",
        "      return self.nome\n",
        "\n",
        "    def get_ender(self):\n",
        "      return self.ender\n"
      ]
    },
    {
      "cell_type": "code",
      "source": [
        "class Pessoa:\n",
        "  def __init__(self, nome, idade):\n",
        "      self.nome = nome\n",
        "      self.idade = idade\n",
        "  def imprimir(self):\n",
        "      print(self.nome,\"tem\", self.idade, \"anos\")\n",
        "  def getIdade(self):\n",
        "      return self.idade\n",
        "  def setIdade(self, idade):\n",
        "      self.idade = idade\n",
        "\n",
        "p = Pessoa(\"Ana\", 25)\n",
        "p.imprimir()"
      ],
      "metadata": {
        "colab": {
          "base_uri": "https://localhost:8080/"
        },
        "id": "kaMv8Hcfafd6",
        "outputId": "c2b7cf6b-e758-4ff1-e722-7e4d0cab09ee"
      },
      "execution_count": 3,
      "outputs": [
        {
          "output_type": "stream",
          "name": "stdout",
          "text": [
            "Ana tem 25 anos\n"
          ]
        }
      ]
    },
    {
      "cell_type": "code",
      "source": [
        "#HERANÇA\n",
        "\n",
        "class Profissional(Pessoa):\n",
        "  def __init__(self, nome, idade, profissao):\n",
        "      super().__init__(nome, idade)\n",
        "      self.profissao = profissao\n",
        "  def imprimir(self):\n",
        "      super().imprimir()\n",
        "      print(\"\\t e trabalha como \", self.profissao)\n",
        "\n",
        "p = Profissional(\"Ana\", 25, \"balconista\")\n",
        "p.imprimir()"
      ],
      "metadata": {
        "colab": {
          "base_uri": "https://localhost:8080/"
        },
        "id": "0Ns_UhxAuF-G",
        "outputId": "d5673c81-00cc-4bf2-fd73-4a144686d43a"
      },
      "execution_count": 4,
      "outputs": [
        {
          "output_type": "stream",
          "name": "stdout",
          "text": [
            "Ana tem 25 anos\n",
            "\t e trabalha como  balconista\n"
          ]
        }
      ]
    }
  ]
}